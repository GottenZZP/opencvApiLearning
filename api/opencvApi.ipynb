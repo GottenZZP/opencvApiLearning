{
 "cells": [
  {
   "cell_type": "code",
   "id": "initial_id",
   "metadata": {
    "collapsed": true,
    "ExecuteTime": {
     "end_time": "2024-08-16T12:08:47.713517Z",
     "start_time": "2024-08-16T12:08:47.593046Z"
    }
   },
   "source": [
    "import cv2\n",
    "import numpy as np"
   ],
   "outputs": [],
   "execution_count": 1
  },
  {
   "metadata": {},
   "cell_type": "markdown",
   "source": [
    "## Harris角点检测\n",
    "- 当检测区域向四周移动时，若无变化，说明这既不是角点也不是边缘（图1）\n",
    "- 当检测区域向左右移动有变化，上下移动无变化（或者反过来）时，说明这是边缘（图2）\n",
    "- 当检测区域向四周移动均有变化，说明这是角点（图3）\n",
    "![image-20240816193038930](https://cdn.jsdelivr.net/gh/GottenZZP/pictures@main/blogs/image-20240816193038930.png)\n",
    "- Harris角点具有旋转不变性，但是不具有尺度不变性"
   ],
   "id": "b3a3284f425e0df"
  },
  {
   "metadata": {
    "ExecuteTime": {
     "start_time": "2024-08-16T12:00:21.773333Z"
    }
   },
   "cell_type": "code",
   "source": [
    "img = cv2.imread('../template/images/images.jpeg')\n",
    "\n",
    "# 灰度化\n",
    "gray = cv2.cvtColor(img, cv2.COLOR_BGR2GRAY)\n",
    "\n",
    "# Harris角点检测\n",
    "blockSize = 2\n",
    "ksize = 3\n",
    "k = 0.04\n",
    "dst = cv2.cornerHarris(gray, blockSize, ksize, k)\n",
    "\n",
    "# Harris角点显示\n",
    "img[dst>0.01*dst.max()] = [0, 0, 255]\n",
    "cv2.imshow('Harris', img)\n",
    "cv2.waitKey(0)"
   ],
   "id": "8c06067ac04f806a",
   "outputs": [],
   "execution_count": null
  },
  {
   "metadata": {},
   "cell_type": "markdown",
   "source": [
    "## Sift特征检测\n",
    "- SIFT（Scale-Invariant Feature Transform）是一种用于检测和描述图像局部特征的算法\n",
    "- 它具备旋转不变性和尺度不变性"
   ],
   "id": "f1e6d7085e9854d1"
  },
  {
   "metadata": {
    "ExecuteTime": {
     "start_time": "2024-08-16T12:09:14.022045Z"
    }
   },
   "cell_type": "code",
   "source": [
    "img = cv2.imread('../template/images/images.jpeg')\n",
    "# 灰度化\n",
    "gray = cv2.cvtColor(img, cv2.COLOR_BGR2GRAY)\n",
    "# SIFT特征检测\n",
    "sift = cv2.xfeatures2d.SIFT_create()\n",
    "kp = sift.detect(gray, None)\n",
    "# SIFT特征显示\n",
    "cv2.drawKeypoints(gray, kp, img)\n",
    "cv2.imshow('SIFT', img)\n",
    "cv2.waitKey(0)"
   ],
   "id": "f65574e49ea737b0",
   "outputs": [],
   "execution_count": null
  },
  {
   "metadata": {},
   "cell_type": "markdown",
   "source": [
    "## 关键点与描述子\n",
    "- 关键点是图像中的局部最大值点，描述子是关键点周围的局部特征\n",
    "- 关键点的位置、尺度、方向、大小等信息\n",
    "- 描述子记录了关键点周围对其有贡献的像素点的一组向量值，不受仿射变换、光照变换的影响"
   ],
   "id": "da6c8b56d7ac1408"
  },
  {
   "metadata": {},
   "cell_type": "markdown",
   "source": "## SIFT计算描述子",
   "id": "23e80b8ab59eb7d3"
  },
  {
   "metadata": {},
   "cell_type": "code",
   "outputs": [],
   "execution_count": null,
   "source": "",
   "id": "a6122bdab3ffdf38"
  }
 ],
 "metadata": {
  "kernelspec": {
   "display_name": "myopen3d_jupyter",
   "language": "python",
   "name": "myopen3d_jupyter"
  },
  "language_info": {
   "codemirror_mode": {
    "name": "ipython",
    "version": 2
   },
   "file_extension": ".py",
   "mimetype": "text/x-python",
   "name": "python",
   "nbconvert_exporter": "python",
   "pygments_lexer": "ipython2",
   "version": "2.7.6"
  }
 },
 "nbformat": 4,
 "nbformat_minor": 5
}
